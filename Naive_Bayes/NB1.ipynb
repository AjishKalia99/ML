{
 "cells": [
  {
   "cell_type": "code",
   "execution_count": null,
   "metadata": {},
   "outputs": [],
   "source": [
    "import pandas as pd\n",
    "import numpy as np\n",
    "from sklearn.model_selection import train_test_split\n",
    "from sklearn.naive_bayes import MultinomialNB\n",
    "#importing The DataSet\n",
    "Data=pd.read_csv(\"Data.csv\")\n",
    "#Cleaning The Data\n",
    "Data[\"Outlook_Cleaned\"]=np.where(Data[\"Outlook\"]==\"Sunny\",1,np.where(Data[\"Outlook\"]==\"Rain\",3,2))\n",
    "Data[\"Temp_Cleaned\"]=np.where(Data[\"Temprature\"]==\"Hot\",1,np.where(Data[\"Temprature\"]==\"Cool\",3,2))\n",
    "Data[\"Humi_Cleaned\"]=np.where(Data[\"Humidity\"]==\"High\",1,2)\n",
    "Data[\"Wind_Cleaned\"]=np.where(Data[\"Wind\"]==\"Weak\",1,2)\n",
    "Data[\"Play\"]=np.where(Data[\"Response\"]==\"Yes\",1,0)\n",
    "new_Data=Data[[\"Outlook_Cleaned\",\"Temp_Cleaned\",\"Humi_Cleaned\",\"Wind_Cleaned\"]]\n",
    "new_Resp=Data[[\"Play\"]]\n",
    "#Spliting the data Set\n",
    "X_Train,X_Test,Y_Train,Y_Test=train_test_split(new_Data,new_Resp,test_size=0.33)\n",
    "#Training the Model and Predicting Values\n",
    "Trn=MultinomialNB()\n",
    "Trn.fit(X_Train,np.ravel(Y_Train,order='C'))\n",
    "Y_Predicted=Trn.predict(X_Test)\n",
    "print(Y_Test)\n",
    "print(Y_Predicted)\n",
    "#Calculating The Accuracy\n",
    "a=X_Test.shape[0]\n",
    "points=(Y_Predicted!=Y_Test[\"Play\"]).sum()\n",
    "Acc=1-(points/a)\n",
    "Acc=Acc*100\n",
    "print(\"No of Mislabeled points out of {} : {}, Performance:{}%\".format(a,points,Acc))\n"
   ]
  }
 ],
 "metadata": {
  "kernelspec": {
   "display_name": "Python 3",
   "language": "python",
   "name": "python3"
  },
  "language_info": {
   "codemirror_mode": {
    "name": "ipython",
    "version": 3
   },
   "file_extension": ".py",
   "mimetype": "text/x-python",
   "name": "python",
   "nbconvert_exporter": "python",
   "pygments_lexer": "ipython3",
   "version": "3.6.2"
  }
 },
 "nbformat": 4,
 "nbformat_minor": 2
}
