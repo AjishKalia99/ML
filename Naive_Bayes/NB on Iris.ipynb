{
 "cells": [
  {
   "cell_type": "code",
   "execution_count": 58,
   "metadata": {},
   "outputs": [
    {
     "name": "stdout",
     "output_type": "stream",
     "text": [
      "No of mislabeled points 1 out of 15 \n",
      "Accuracy=93.33%\n"
     ]
    }
   ],
   "source": [
    "import pandas as pd\n",
    "import numpy as np\n",
    "import matplotlib.pyplot as plt\n",
    "from sklearn.naive_bayes import GaussianNB\n",
    "from sklearn.model_selection import train_test_split\n",
    "\n",
    "#import DataSet\n",
    "data=pd.read_csv(\"Iris.csv\")\n",
    "#cleaning Data\n",
    "data[\"Species_Clean\"]=np.where(data[\"Species\"]==\"Iris-setosa\",1,np.where(data[\"Species\"]==\"Iris-versicolor\",2,3))\n",
    "cln_data=data[[\"Sepal_Length\",\"Sepal_Width\",\"Petal_Width\"]]\n",
    "cln_Species=data[[\"Species_Clean\"]]\n",
    "#splittiing the dataset\n",
    "X_Train,X_Test,Y_Train,Y_Test=train_test_split(cln_data,cln_Species,test_size=0.1)\n",
    "#Fitting into the model and making the predictions\n",
    "Gnb=GaussianNB()\n",
    "Y_Train=np.ravel(Y_Train,order='C')\n",
    "Gnb.fit(X_Train,Y_Train)\n",
    "Y_Predicted=Gnb.predict(X_Test)\n",
    "#testing the Accuracy\n",
    "a=X_Test.shape[0]\n",
    "mis_points=(Y_Predicted!=Y_Test[\"Species_Clean\"]).sum()\n",
    "acc=1-(mis_points/a)\n",
    "Acc=acc*100\n",
    "print(\"No of mislabeled points {} out of {} \\nAccuracy={:05.2f}%\".format(mis_points,a,Acc))"
   ]
  }
 ],
 "metadata": {
  "kernelspec": {
   "display_name": "Python 3",
   "language": "python",
   "name": "python3"
  },
  "language_info": {
   "codemirror_mode": {
    "name": "ipython",
    "version": 3
   },
   "file_extension": ".py",
   "mimetype": "text/x-python",
   "name": "python",
   "nbconvert_exporter": "python",
   "pygments_lexer": "ipython3",
   "version": "3.6.2"
  }
 },
 "nbformat": 4,
 "nbformat_minor": 2
}
